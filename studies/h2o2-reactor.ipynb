{
 "cells": [
  {
   "cell_type": "markdown",
   "metadata": {},
   "source": [
    "# H2-O2 reaction inside a reactor cell\n",
    "\n",
    "---\n",
    "\n",
    "Chemical kinetics and thermodynamic calculations of gasous reactor cell analysis"
   ]
  },
  {
   "cell_type": "code",
   "execution_count": 1,
   "metadata": {},
   "outputs": [],
   "source": [
    "import cantera as ct\n",
    "import numpy as np, pandas as pd"
   ]
  },
  {
   "cell_type": "code",
   "execution_count": 2,
   "metadata": {},
   "outputs": [],
   "source": [
    "gas = ct.Solution('../data/h2o2.yaml')"
   ]
  },
  {
   "cell_type": "code",
   "execution_count": 3,
   "metadata": {},
   "outputs": [],
   "source": [
    "gas.TPX = 300.0, ct.one_atm, 'H2:2, O2:1'"
   ]
  },
  {
   "cell_type": "code",
   "execution_count": 4,
   "metadata": {},
   "outputs": [],
   "source": [
    "gas.equilibrate('SV')"
   ]
  },
  {
   "cell_type": "code",
   "execution_count": 5,
   "metadata": {},
   "outputs": [
    {
     "name": "stdout",
     "output_type": "stream",
     "text": [
      "\n",
      "  ohmech:\n",
      "\n",
      "       temperature   1530 K\n",
      "          pressure   3.4454e+05 Pa\n",
      "           density   0.48787 kg/m^3\n",
      "  mean mol. weight   18.013 kg/kmol\n",
      "   phase of matter   gas\n",
      "\n",
      "                          1 kg             1 kmol     \n",
      "                     ---------------   ---------------\n",
      "          enthalpy       -1.0665e+07       -1.9212e+08  J\n",
      "   internal energy       -1.1372e+07       -2.0484e+08  J\n",
      "           entropy             13403        2.4144e+05  J/K\n",
      "    Gibbs function       -3.1173e+07       -5.6153e+08  J\n",
      " heat capacity c_p            2642.4             47598  J/K\n",
      " heat capacity c_v            2180.8             39284  J/K\n",
      "\n",
      "                      mass frac. Y      mole frac. X     chem. pot. / RT\n",
      "                     ---------------   ---------------   ---------------\n",
      "                H2        1.9272e-05         0.0001722           -26.103\n",
      "                 H        9.9878e-09        1.7849e-07           -13.052\n",
      "                 O        2.5716e-08        2.8954e-08           -18.042\n",
      "                O2        0.00013849        7.7962e-05           -36.084\n",
      "                OH        3.0835e-05        3.2659e-05           -31.093\n",
      "               H2O           0.99981           0.99972           -44.145\n",
      "               HO2        5.0535e-09         2.758e-09           -49.135\n",
      "              H2O2        7.6262e-09        4.0387e-09           -62.187\n",
      "     [   +2 minor]                 0                 0  \n",
      "\n"
     ]
    }
   ],
   "source": [
    "gas()"
   ]
  }
 ],
 "metadata": {
  "interpreter": {
   "hash": "942bd1cd0c0466eb1cffb48fb3ac266ae7d133feb2deb471cb887e4ec7697fde"
  },
  "kernelspec": {
   "display_name": "Python 3.9.11 ('cantera')",
   "language": "python",
   "name": "python3"
  },
  "language_info": {
   "codemirror_mode": {
    "name": "ipython",
    "version": 3
   },
   "file_extension": ".py",
   "mimetype": "text/x-python",
   "name": "python",
   "nbconvert_exporter": "python",
   "pygments_lexer": "ipython3",
   "version": "3.9.11"
  },
  "orig_nbformat": 4
 },
 "nbformat": 4,
 "nbformat_minor": 2
}
